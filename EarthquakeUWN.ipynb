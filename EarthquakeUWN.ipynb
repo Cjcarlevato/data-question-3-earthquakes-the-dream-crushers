{
 "cells": [
  {
   "cell_type": "code",
   "execution_count": null,
   "metadata": {},
   "outputs": [],
   "source": [
    "import pandas as pd\n",
    "import requests\n",
    "from bs4 import BeautifulSoup as BS\n",
    "import numpy as np\n",
    "import matplotlib.pyplot as plt\n",
    "import seaborn as sns\n",
    "import geopandas as gpd\n",
    "import folium\n",
    "from shapely.geometry import Point"
   ]
  },
  {
   "cell_type": "code",
   "execution_count": null,
   "metadata": {},
   "outputs": [],
   "source": [
    "response=requests.get('https://en.wikipedia.org/wiki/List_of_deadly_earthquakes_since_1900')"
   ]
  },
  {
   "cell_type": "code",
   "execution_count": null,
   "metadata": {},
   "outputs": [],
   "source": [
    "result_text=response.text"
   ]
  },
  {
   "cell_type": "code",
   "execution_count": null,
   "metadata": {},
   "outputs": [],
   "source": [
    "print(type(response))\n",
    "print(type(result_text))"
   ]
  },
  {
   "cell_type": "code",
   "execution_count": null,
   "metadata": {},
   "outputs": [],
   "source": [
    "result_text"
   ]
  },
  {
   "cell_type": "code",
   "execution_count": null,
   "metadata": {},
   "outputs": [],
   "source": [
    "soup = BS(result_text, 'html.parser')"
   ]
  },
  {
   "cell_type": "code",
   "execution_count": null,
   "metadata": {},
   "outputs": [],
   "source": [
    "# looks for wikitable first table does not contain valuable information\n",
    "table = soup.find_all('table',{'class':'sortable wikitable'})"
   ]
  },
  {
   "cell_type": "code",
   "execution_count": null,
   "metadata": {},
   "outputs": [],
   "source": [
    "type(table)"
   ]
  },
  {
   "cell_type": "code",
   "execution_count": null,
   "metadata": {},
   "outputs": [],
   "source": [
    "df=pd.read_html(str(table)) #converts html table into dataframe"
   ]
  },
  {
   "cell_type": "code",
   "execution_count": null,
   "metadata": {},
   "outputs": [],
   "source": [
    "df"
   ]
  },
  {
   "cell_type": "code",
   "execution_count": null,
   "metadata": {},
   "outputs": [],
   "source": [
    "df=df[0] #selects 1st table (I think this happens to be the only table)"
   ]
  },
  {
   "cell_type": "code",
   "execution_count": null,
   "metadata": {
    "scrolled": false
   },
   "outputs": [],
   "source": [
    "df"
   ]
  },
  {
   "cell_type": "code",
   "execution_count": null,
   "metadata": {
    "scrolled": true
   },
   "outputs": [],
   "source": [
    "df.describe()"
   ]
  },
  {
   "cell_type": "code",
   "execution_count": null,
   "metadata": {},
   "outputs": [],
   "source": [
    "df.info()"
   ]
  },
  {
   "cell_type": "code",
   "execution_count": null,
   "metadata": {},
   "outputs": [],
   "source": [
    "# converts all missing values to NaN\n",
    "df1=df.replace(r'\\s+$', np.nan, regex=True)"
   ]
  },
  {
   "cell_type": "code",
   "execution_count": null,
   "metadata": {},
   "outputs": [],
   "source": [
    "df1.describe()"
   ]
  },
  {
   "cell_type": "code",
   "execution_count": null,
   "metadata": {},
   "outputs": [],
   "source": [
    "df1.info()"
   ]
  },
  {
   "cell_type": "code",
   "execution_count": null,
   "metadata": {},
   "outputs": [],
   "source": [
    "df1\n",
    "# As you note, all missing values are filled in with NaN already.  No visible change between df and df1.  \n",
    "# will continue to use df"
   ]
  },
  {
   "cell_type": "code",
   "execution_count": null,
   "metadata": {},
   "outputs": [],
   "source": [
    "df == df1 #Why are there false values"
   ]
  },
  {
   "cell_type": "code",
   "execution_count": null,
   "metadata": {},
   "outputs": [],
   "source": [
    "df.iloc[1340,-1]"
   ]
  },
  {
   "cell_type": "code",
   "execution_count": null,
   "metadata": {},
   "outputs": [],
   "source": [
    "# Need to remove all \"footnotes\" from values in column"
   ]
  },
  {
   "cell_type": "code",
   "execution_count": null,
   "metadata": {},
   "outputs": [],
   "source": [
    "type(df.iloc[1340,-1])"
   ]
  },
  {
   "cell_type": "code",
   "execution_count": null,
   "metadata": {},
   "outputs": [],
   "source": [
    "OSDsep=df.iloc[:,11].str.partition('[')"
   ]
  },
  {
   "cell_type": "code",
   "execution_count": null,
   "metadata": {},
   "outputs": [],
   "source": [
    "OSDsep.head()"
   ]
  },
  {
   "cell_type": "code",
   "execution_count": null,
   "metadata": {},
   "outputs": [],
   "source": [
    "OSDsep1=OSDsep.iloc[:,0]"
   ]
  },
  {
   "cell_type": "code",
   "execution_count": null,
   "metadata": {},
   "outputs": [],
   "source": [
    "print(OSDsep1.head())"
   ]
  },
  {
   "cell_type": "code",
   "execution_count": null,
   "metadata": {},
   "outputs": [],
   "source": [
    "OSDsep2=OSDsep1.str.partition('(')"
   ]
  },
  {
   "cell_type": "code",
   "execution_count": null,
   "metadata": {},
   "outputs": [],
   "source": [
    "OSDsep2.tail()"
   ]
  },
  {
   "cell_type": "code",
   "execution_count": null,
   "metadata": {},
   "outputs": [],
   "source": [
    "OSDsep3=OSDsep2[0].str.partition('+')"
   ]
  },
  {
   "cell_type": "code",
   "execution_count": null,
   "metadata": {},
   "outputs": [],
   "source": [
    "OSDsep3.tail()"
   ]
  },
  {
   "cell_type": "code",
   "execution_count": null,
   "metadata": {},
   "outputs": [],
   "source": [
    "OSDsep4=OSDsep3[0]"
   ]
  },
  {
   "cell_type": "code",
   "execution_count": null,
   "metadata": {},
   "outputs": [],
   "source": [
    "OSDsep4.describe()"
   ]
  },
  {
   "cell_type": "code",
   "execution_count": null,
   "metadata": {},
   "outputs": [],
   "source": [
    "type(OSDsep4)"
   ]
  },
  {
   "cell_type": "code",
   "execution_count": null,
   "metadata": {},
   "outputs": [],
   "source": [
    "# df.iloc[:,11].replace(to_replace=OSDsep4)\n",
    "df.iloc[:,11]=OSDsep4"
   ]
  },
  {
   "cell_type": "code",
   "execution_count": null,
   "metadata": {},
   "outputs": [],
   "source": [
    "df.tail()"
   ]
  },
  {
   "cell_type": "code",
   "execution_count": null,
   "metadata": {},
   "outputs": [],
   "source": [
    "type(df.iloc[1335,-1])# went to previous steps to change str to float "
   ]
  },
  {
   "cell_type": "code",
   "execution_count": null,
   "metadata": {},
   "outputs": [],
   "source": [
    "df.iloc[:,11]=pd.to_numeric(df.iloc[:,11],errors='coerce')"
   ]
  },
  {
   "cell_type": "code",
   "execution_count": null,
   "metadata": {},
   "outputs": [],
   "source": [
    "type(df.iloc[1340,-1])"
   ]
  },
  {
   "cell_type": "code",
   "execution_count": null,
   "metadata": {},
   "outputs": [],
   "source": [
    "df.head(10)"
   ]
  },
  {
   "cell_type": "code",
   "execution_count": null,
   "metadata": {},
   "outputs": [],
   "source": [
    "df.tail()"
   ]
  },
  {
   "cell_type": "code",
   "execution_count": null,
   "metadata": {},
   "outputs": [],
   "source": [
    "df.columns"
   ]
  },
  {
   "cell_type": "code",
   "execution_count": null,
   "metadata": {},
   "outputs": [],
   "source": [
    "df.iloc[0,11]='Other Source Deaths'"
   ]
  },
  {
   "cell_type": "code",
   "execution_count": null,
   "metadata": {},
   "outputs": [],
   "source": [
    "df.iloc[0,11]"
   ]
  },
  {
   "cell_type": "code",
   "execution_count": null,
   "metadata": {},
   "outputs": [],
   "source": [
    "df.columns=df.iloc[0,:]"
   ]
  },
  {
   "cell_type": "code",
   "execution_count": null,
   "metadata": {
    "scrolled": true
   },
   "outputs": [],
   "source": [
    "df.columns"
   ]
  },
  {
   "cell_type": "code",
   "execution_count": null,
   "metadata": {},
   "outputs": [],
   "source": [
    "df.head()#should I delete row 0 now that I've changed the column names to reflect what was in row 0"
   ]
  },
  {
   "cell_type": "code",
   "execution_count": null,
   "metadata": {},
   "outputs": [],
   "source": [
    "mag=df.iloc[:,5].str.partition(' ')"
   ]
  },
  {
   "cell_type": "code",
   "execution_count": null,
   "metadata": {
    "scrolled": true
   },
   "outputs": [],
   "source": [
    "mag.head(3)"
   ]
  },
  {
   "cell_type": "code",
   "execution_count": null,
   "metadata": {},
   "outputs": [],
   "source": [
    "df.iloc[:,5]=mag[0] #Assume magnitude variables (i.e. Muk, Mk, etc are neglible regardless\n",
    "# of differing scales)\n",
    "df.head()"
   ]
  },
  {
   "cell_type": "code",
   "execution_count": null,
   "metadata": {},
   "outputs": [],
   "source": [
    "df.columns"
   ]
  },
  {
   "cell_type": "code",
   "execution_count": null,
   "metadata": {},
   "outputs": [],
   "source": [
    "type(df.iloc[4,5])"
   ]
  },
  {
   "cell_type": "code",
   "execution_count": null,
   "metadata": {},
   "outputs": [],
   "source": [
    "# df.iloc[:,2]=pd.to_numeric(df.iloc[:,11],errors='coerce')\n",
    "# df.iloc[:,3]=pd.to_numeric(df.iloc[:,11],errors='coerce')\n",
    "# df.iloc[:,4]=pd.to_numeric(df.iloc[:,11],errors='coerce')\n",
    "df.iloc[:,5]=pd.to_numeric(df.iloc[:,5],errors='coerce')\n",
    "# df.iloc[:,6]=pd.to_numeric(df.iloc[:,6],errors='coerce')\n",
    "df.iloc[:,7]=pd.to_numeric(df.iloc[:,7],errors='coerce')\n",
    "df.iloc[:,8]=pd.to_numeric(df.iloc[:,8],errors='coerce')\n",
    "df.iloc[:,9]=pd.to_numeric(df.iloc[:,9],errors='coerce')\n",
    "df.iloc[:,10]=pd.to_numeric(df.iloc[:,10],errors='coerce')\n",
    "df.iloc[:,11]=pd.to_numeric(df.iloc[:,11],errors='coerce')"
   ]
  },
  {
   "cell_type": "code",
   "execution_count": null,
   "metadata": {},
   "outputs": [],
   "source": [
    "df.head(3)"
   ]
  },
  {
   "cell_type": "code",
   "execution_count": null,
   "metadata": {},
   "outputs": [],
   "source": [
    "type(df.iloc[28,6])"
   ]
  },
  {
   "cell_type": "code",
   "execution_count": null,
   "metadata": {
    "scrolled": true
   },
   "outputs": [],
   "source": [
    "df['deaths']=df.iloc[:,8:].apply(np.max,axis=1)\n",
    "# df.rename(mapper={\"Present-day country and link to Wikipedia article\":\"Country\"})\n",
    "df.columns =['Origin(UTC)','Country','Lat','Long','Depth(km)','Magnitude','Secondary Effects', 'PDE Shaking Deaths', 'PDE Total Deaths', 'Utsu Total Deaths', 'EM-DAT Total Deaths', 'Other Source Deaths','deaths']   \n",
    "df['Country'].str.replace(r\" ?\\([^)]+\\)\", \"\",regex=True).unique()\n",
    "\n",
    "df"
   ]
  },
  {
   "cell_type": "code",
   "execution_count": null,
   "metadata": {
    "scrolled": true
   },
   "outputs": [],
   "source": [
    "fix2=df['Country'].str.partition('(')\n",
    "df['Country']=fix2.iloc[:,0]\n",
    "df.tail()"
   ]
  },
  {
   "cell_type": "code",
   "execution_count": null,
   "metadata": {},
   "outputs": [],
   "source": [
    "# df['deaths']= df.iloc[:,8:].max()\n",
    "# df.agg(\"max\", axis=\"columns\")\n",
    "# list1=df['PDE Total Deaths']\n",
    "# list2=df['Utsu Total Deaths']\n",
    "# list3=df['EM-DAT Total Deaths']\n",
    "# list4=df['Other Source Deaths']\n",
    "\n",
    "# def function(list1,list2,list3,list4): #def returns 5th list \n",
    "#     df['deaths'] = [max(value) for value in zip(list1, list2, list3, list4)]\n",
    "#     return df['deaths']\n",
    "# print(function(list1,list2,list3,list4))"
   ]
  },
  {
   "cell_type": "markdown",
   "metadata": {},
   "source": [
    "Data Question3\n",
    "- Nate Silver discusses the difficulty of predicting earthquakes in **The Signal and the Noise**, but are there factors that make an earthquake more likely? \n",
    "- Are there factors that make an earthquake more deadly? \n",
    "- Where would you live if you wanted to eliminate the risk of experiencing an earthquake? \n",
    "- Where would you avoid living?\n",
    "\n",
    "Read the table of earthquakes from https://en.wikipedia.org/wiki/List_of_deadly_earthquakes_since_1900 using *beautifulsoup* and load it to a pandas dataframe. An introduction to the request and beautifulsoup libraries is provided in `TuringAward_soup.ipynb`.\n",
    "\n",
    "Consider\n",
    " - Define \"Deadly\""
   ]
  },
  {
   "cell_type": "code",
   "execution_count": null,
   "metadata": {},
   "outputs": [],
   "source": [
    "sns.residplot(x=df.Magnitude,y=df.deaths,data=df.deaths)"
   ]
  },
  {
   "cell_type": "code",
   "execution_count": null,
   "metadata": {
    "scrolled": false
   },
   "outputs": [],
   "source": [
    "# sns.stripplot(x=df.Country,y=df.Magnitude,data=df.Magnitude,jitter=True)\n",
    "# sns.jointplot(x=df.Country, y=df.Magnitude, data=df.Magnitude,kind='scatter')\n",
    "# plt.plot(df.Country,df.Magnitude)\n",
    "# mag=df.Magnitude\n",
    "# death=df.deaths\n",
    "# place=df.Country\n",
    "# # plt.plot(place,mag)\n",
    "# df.plot(kind='bar',x=Country,y=Magnitude)\n",
    "# plt.show()"
   ]
  },
  {
   "cell_type": "code",
   "execution_count": null,
   "metadata": {},
   "outputs": [],
   "source": [
    "Max_death=df['deaths'].max()\n",
    "maxdeath=df.loc[df['deaths']==Max_death]\n",
    "print(maxdeath)\n",
    "#Why is this value so much higher than all the other death values?  Perhaps there's a greater population density?\n",
    "#building structures?"
   ]
  },
  {
   "cell_type": "markdown",
   "metadata": {},
   "source": [
    "Consider reviewing average deaths by country over the years....  Where does China fall in to that with this ID#584 \n",
    " and without...."
   ]
  },
  {
   "cell_type": "code",
   "execution_count": null,
   "metadata": {},
   "outputs": [],
   "source": [
    "# rolling_df_max=rolling_df.groupby('User').max().reset_index()\n",
    "# rolling_df_max.head()\n",
    "Country=df.groupby('Country').mean()\n",
    "print(Country)"
   ]
  },
  {
   "cell_type": "code",
   "execution_count": null,
   "metadata": {},
   "outputs": [],
   "source": [
    "type(Country)"
   ]
  },
  {
   "cell_type": "code",
   "execution_count": null,
   "metadata": {},
   "outputs": [],
   "source": [
    "Country.head()"
   ]
  },
  {
   "cell_type": "code",
   "execution_count": null,
   "metadata": {},
   "outputs": [],
   "source": [
    "country_count=df['Country'].value_counts()\n",
    "#How many earthquakes are too many... normalize points and find percentage of earthquakes...\n",
    "# SumofQ=country_count.sum() --- Duh... total number of rows in df = 1341\n",
    "country_count=pd.DataFrame(country_count).reset_index()\n",
    "country_count.columns=['Country', 'Number of Earthquakes']\n",
    "country_count.head()"
   ]
  },
  {
   "cell_type": "code",
   "execution_count": null,
   "metadata": {
    "scrolled": true
   },
   "outputs": [],
   "source": [
    "country_count['percentage'] =(country_count['Number of Earthquakes']/1341)*100\n",
    "country_count.head(50)"
   ]
  },
  {
   "cell_type": "code",
   "execution_count": null,
   "metadata": {
    "scrolled": true
   },
   "outputs": [],
   "source": [
    "country_count.plot(kind='bar',x='Country', y='Number of Earthquakes', title='Number of Earthquake Occurrences per Country since 1900')\n",
    "plt.show()"
   ]
  },
  {
   "cell_type": "code",
   "execution_count": null,
   "metadata": {},
   "outputs": [],
   "source": [
    "topEQs=country_count.loc[country_count['Number of Earthquakes']>=60]  #presumably 1 every 2-3 years - This parameter\n",
    "# can be changed"
   ]
  },
  {
   "cell_type": "code",
   "execution_count": null,
   "metadata": {},
   "outputs": [],
   "source": [
    "topEQs.plot(kind='bar',x='Country', y='Number of Earthquakes', title='Number of Earthquake Occurrences since 1900 for High \"Output\" Countries')\n",
    "plt.show()"
   ]
  },
  {
   "cell_type": "code",
   "execution_count": null,
   "metadata": {
    "scrolled": false
   },
   "outputs": [],
   "source": [
    "plt.pie(topEQs['percentage'],labels=topEQs['Country'])\n",
    "plt.title='Percentage of Earthquakes for High \"Output\" Countries' #Fix title later...\n",
    "plt.show()"
   ]
  },
  {
   "cell_type": "markdown",
   "metadata": {},
   "source": [
    "Need to find and compare countries with high death toll"
   ]
  },
  {
   "cell_type": "code",
   "execution_count": null,
   "metadata": {},
   "outputs": [],
   "source": []
  },
  {
   "cell_type": "markdown",
   "metadata": {},
   "source": [
    "Find tectonic activity and compare to location of earthquakes"
   ]
  },
  {
   "cell_type": "code",
   "execution_count": null,
   "metadata": {
    "scrolled": true
   },
   "outputs": [],
   "source": [
    "#Drop NaN values\n",
    "# dfnona=df.loc[df['Lat'].notna()]\n",
    "df.tail()"
   ]
  },
  {
   "cell_type": "code",
   "execution_count": null,
   "metadata": {},
   "outputs": [],
   "source": [
    "df.head()"
   ]
  },
  {
   "cell_type": "code",
   "execution_count": null,
   "metadata": {},
   "outputs": [],
   "source": [
    "df.iloc[:,2]=pd.to_numeric(df.iloc[:,2],errors='coerce')\n",
    "df.iloc[:,3]=pd.to_numeric(df.iloc[:,3],errors='coerce')\n",
    "df.iloc[:,4]=pd.to_numeric(df.iloc[:,4],errors='coerce')\n",
    "df.tail()"
   ]
  },
  {
   "cell_type": "code",
   "execution_count": null,
   "metadata": {},
   "outputs": [],
   "source": [
    "dfmap=df.loc[df['Lat'].notna()]\n",
    "dfmap.shape"
   ]
  },
  {
   "cell_type": "code",
   "execution_count": null,
   "metadata": {},
   "outputs": [],
   "source": [
    "dfmap2=dfmap.loc[dfmap['Long'].notna()]\n",
    "dfmap2.shape"
   ]
  },
  {
   "cell_type": "markdown",
   "metadata": {},
   "source": [
    "GeoJSON Data found @ https://www.gislounge.com/find-tectonic-plate-gis-data/ and https://github.com/fraxen/tectonicplates"
   ]
  },
  {
   "cell_type": "code",
   "execution_count": null,
   "metadata": {},
   "outputs": [],
   "source": [
    "plates=gpd.read_file('C:/Users/unews/nss_data_science/data-question-3-earthquakes-the-dream-crushers/tectonicplates/GeoJSON/PB2002_plates.json')"
   ]
  },
  {
   "cell_type": "code",
   "execution_count": null,
   "metadata": {
    "scrolled": true
   },
   "outputs": [],
   "source": [
    "plates.loc[0,'geometry']"
   ]
  },
  {
   "cell_type": "markdown",
   "metadata": {},
   "source": [
    "The following cells combine the location of earthquakes juxtaposed with the location of tectonic plates using GeoJSON."
   ]
  },
  {
   "cell_type": "code",
   "execution_count": null,
   "metadata": {
    "scrolled": true
   },
   "outputs": [],
   "source": [
    "plates_kwds = {'title': 'Plates', 'loc': 'upper left', 'bbox_to_anchor': (1, 1.03), 'ncol': 6}\n",
    "plates.plot(column = 'PlateName', figsize=(12, 12), legend = True, legend_kwds = plates_kwds)\n",
    "plt.show()"
   ]
  },
  {
   "cell_type": "markdown",
   "metadata": {},
   "source": [
    "Location of earthquakes on the world map.  Circles are indicative of location and diameter represents magnitude of earthquake"
   ]
  },
  {
   "cell_type": "code",
   "execution_count": null,
   "metadata": {
    "scrolled": true
   },
   "outputs": [],
   "source": [
    "world=folium.Map(location=[20,0], tiles=\"Mapbox Bright\", zoom_start=2)\n",
    "for i in range(0,len(dfmap2)):\n",
    "#     folium.Marker([dfmap2.iloc[i]['Lat'], dfmap2.iloc[i]['Long']], popup=dfmap2.iloc[i]['Country']).add_to(world)\n",
    "    folium.Circle(\n",
    "        location=[dfmap2.iloc[i]['Lat'],dfmap2.iloc[i]['Long']],\n",
    "        popup=dfmap2.iloc[i]['Country'],\n",
    "        radius=dfmap2.iloc[i]['Magnitude']*10000,\n",
    "        color='crimson',\n",
    "        fill=True,\n",
    "        fill_color='crimson').add_to(world)\n",
    "world\n",
    "\n",
    "# Make an empty map\n",
    "# m = folium.Map(location=[20,0], tiles=\"Mapbox Bright\", zoom_start=2)\n",
    " \n",
    "# # I can add marker one by one on the map\n",
    "# for i in range(0,len(data)):\n",
    "#    folium.Circle(\n",
    "#       location=[data.iloc[i]['lon'], data.iloc[i]['lat']],\n",
    "#       popup=data.iloc[i]['name'],\n",
    "#       radius=data.iloc[i]['value']*10000,\n",
    "#       color='crimson',\n",
    "#       fill=True,\n",
    "#       fill_color='crimson'\n",
    "#    ).add_to(m)\n",
    " \n",
    "# Save it as html\n",
    "# m.save('mymap.html')"
   ]
  },
  {
   "cell_type": "markdown",
   "metadata": {},
   "source": [
    "This should help to answer the question... \"Where to and where not to live...\""
   ]
  },
  {
   "cell_type": "code",
   "execution_count": null,
   "metadata": {
    "scrolled": true
   },
   "outputs": [],
   "source": [
    "world=folium.Map(location=[20,0], tiles=\"Mapbox Bright\", zoom_start=2)\n",
    "folium.GeoJson(plates.geometry).add_to(world)\n",
    "for i in range(0,len(dfmap2)):\n",
    "#     folium.Marker([dfmap2.iloc[i]['Lat'], dfmap2.iloc[i]['Long']], popup=dfmap2.iloc[i]['Country']).add_to(world)\n",
    "    folium.Circle(\n",
    "        location=[dfmap2.iloc[i]['Lat'],dfmap2.iloc[i]['Long']],\n",
    "        popup=(str(dfmap2.iloc[i]['Country']) + '<br/>' +\n",
    "       'EventTime: ' + str(dfmap2.iloc[i]['Origin(UTC)']) + '<br/>' +\n",
    "       'Magnitude: ' + str(dfmap2.iloc[i]['Magnitude']) + '<br/>' +\n",
    "       'Deaths: ' + str(dfmap2.iloc[i]['deaths'])).replace(\"'\", \"`\"),\n",
    "        radius=dfmap2.iloc[i]['Magnitude']*10000,\n",
    "        color='crimson',\n",
    "        fill=True,\n",
    "        fill_color='crimson').add_to(world)\n",
    "world"
   ]
  },
  {
   "cell_type": "markdown",
   "metadata": {},
   "source": [
    "What's the relationship between secondary effects and number of deaths?"
   ]
  },
  {
   "cell_type": "code",
   "execution_count": null,
   "metadata": {},
   "outputs": [],
   "source": [
    "seceff=df.loc[df['Secondary Effects'].notna()]\n",
    "seceff.shape\n",
    "# https://clevertap.com/blog/exploring-the-relationship-between-variables-visually/"
   ]
  },
  {
   "cell_type": "code",
   "execution_count": null,
   "metadata": {
    "scrolled": true
   },
   "outputs": [],
   "source": [
    "# plt.subplot(1,2,1)\n",
    "seceff.boxplot(column='deaths',by='Secondary Effects')\n",
    "plt.ylim([0,150000]) #negates large value of 300,000 deaths\n",
    "# plt.subplot(1,2,2)\n",
    "# seceff.plot(x='Secondary Effects', y='deaths', kind='box')\n",
    "plt.show()\n"
   ]
  },
  {
   "cell_type": "code",
   "execution_count": null,
   "metadata": {},
   "outputs": [],
   "source": [
    "# plt.subplot(1,2,1)\n",
    "seceff.boxplot(column='deaths',by='Secondary Effects')\n",
    "plt.ylim([0,20000]) #negates larger values\n",
    "# plt.subplot(1,2,2)\n",
    "# seceff.plot(x='Secondary Effects', y='deaths', kind='box')\n",
    "plt.show()"
   ]
  },
  {
   "cell_type": "code",
   "execution_count": null,
   "metadata": {
    "scrolled": true
   },
   "outputs": [],
   "source": [
    "# plt.subplot(1,2,1)\n",
    "seceff.boxplot(column='deaths',by='Secondary Effects')\n",
    "plt.ylim([0,12500]) #negates larger values\n",
    "# plt.subplot(1,2,2)\n",
    "# seceff.plot(x='Secondary Effects', y='deaths', kind='box')\n",
    "plt.show()"
   ]
  },
  {
   "cell_type": "code",
   "execution_count": null,
   "metadata": {},
   "outputs": [],
   "source": [
    "# plt.subplot(1,2,1)\n",
    "seceff.boxplot(column='deaths',by='Secondary Effects')\n",
    "plt.ylim([0,5000]) #negates larger values\n",
    "# plt.subplot(1,2,2)\n",
    "# seceff.plot(x='Secondary Effects', y='deaths', kind='box')\n",
    "plt.show()"
   ]
  },
  {
   "cell_type": "code",
   "execution_count": null,
   "metadata": {},
   "outputs": [],
   "source": [
    "seceff.plot(y='deaths', kind='box')\n",
    "plt.show()"
   ]
  },
  {
   "cell_type": "code",
   "execution_count": null,
   "metadata": {
    "scrolled": true
   },
   "outputs": [],
   "source": [
    "SE=seceff['Secondary Effects']\n",
    "deatheff=seceff['deaths']\n",
    "plt.subplot(1,2,2)\n",
    "sns.stripplot(x = SE, y = deatheff, size=4,jitter=True)\n",
    "# plt.ylim(0,5000)\n",
    "plt.subplot(1,2,1)\n",
    "sns.boxplot(x=seceff['Secondary Effects'], y=seceff['deaths'])\n",
    "plt.ylim(0,5000)\n",
    "# plt.subplot(2,2,1)\n",
    "# sns.stripplot(x = SE, y = deatheff, size=4,jitter=True)\n",
    "# plt.ylim([0,150000])\n",
    "# plt.subplot(2,2,2)\n",
    "# sns.boxplot(x=seceff['Secondary Effects'], y=seceff['deaths'])\n",
    "# plt.ylim([0,150,000])\n",
    "plt.show()"
   ]
  },
  {
   "cell_type": "markdown",
   "metadata": {},
   "source": [
    "\"There are two main reasons to use logarithmic scales in charts and graphs. The first is to respond to skewness towards large values; i.e., cases in which one or a few points are much larger than the bulk of the data.\" https://www.forbes.com/sites/naomirobbins/2012/01/19/when-should-i-use-logarithmic-scales-in-my-charts-and-graphs/#71d65d275e67"
   ]
  },
  {
   "cell_type": "code",
   "execution_count": null,
   "metadata": {},
   "outputs": [],
   "source": [
    "#plotting on logarithmic scale\n",
    "seceff.boxplot(column='deaths',by='Secondary Effects',figsize=(20,10))\n",
    "plt.yscale('log')\n",
    "plt.show()"
   ]
  },
  {
   "cell_type": "markdown",
   "metadata": {},
   "source": [
    "According to wikipedia, T, L, F, Lq represents, \"tsunami, landslide, fire, liquefaction \""
   ]
  },
  {
   "cell_type": "markdown",
   "metadata": {},
   "source": [
    "It appears that earthquakes with the secondary effects of a tsunami and fire concurrently \n",
    "appeared to relatively cause more fatalities.  In addition when looking at \n",
    "occurrences of a single reported phenomenon such as fire OR Landslides OR \n",
    "tsunamis,etc., fires seemed to have the most affect on fatalities followed by liquefaction.  What factors relate to fire or liquefaction?    Perhaps this is \n",
    "because fires may have occurred more often compared to other secondary effects.\n",
    "\n",
    "Complete a value count to determine..."
   ]
  },
  {
   "cell_type": "code",
   "execution_count": null,
   "metadata": {},
   "outputs": [],
   "source": [
    "SE3=SE2[['Origin(UTC)', 'Country', 'Magnitude', 'Secondary Effects', 'deaths']]"
   ]
  },
  {
   "cell_type": "code",
   "execution_count": null,
   "metadata": {},
   "outputs": [],
   "source": [
    "# Attempts to change the name for the graph... not necessary now, but \n",
    "# may change later.\n",
    "\n",
    "# for i in range(0,len(SE2)):\n",
    "#     SE2.iloc[i]['Secondary Effects']={'T':'Tsunami', 'L':'Landslide', 'F':'Fire','Lq':'Liquefaction'}\n",
    "\n",
    "# SE3=SE2[SE2['Secondary Effects'].replace(to_replace=('T','L','F','Lq'),value=('Tsunami', 'Landslide', 'Fire','Liquefaction'))]\n",
    "# SE3=SE3[SE2['Secondary Effects'].replace(to_replace={'T':'Tsunami', 'L':'Landslide', 'F':'Fire','Lq':'Liquefaction})]"
   ]
  },
  {
   "cell_type": "code",
   "execution_count": null,
   "metadata": {},
   "outputs": [],
   "source": [
    "SE3['Secondary Effects'].value_counts()"
   ]
  },
  {
   "cell_type": "markdown",
   "metadata": {},
   "source": [
    "This answers my question.... Fire and Tsunami/Fires do not occur more often.  Landslides occur more often.  Nevertheless, despite the fact that they don't occur more often, it appears to play a greater effect on fatalities.\n",
    "\n",
    "Why are fires and tsunami/fires more deadly?  Where were they the deadliest?\n",
    "\n",
    "Look at where liquefaction, landslides, fires, tsunami/fires occur.....compare to total population if known during that time."
   ]
  },
  {
   "cell_type": "code",
   "execution_count": null,
   "metadata": {},
   "outputs": [],
   "source": [
    "Lq_countries=SE3.loc[SE3['Secondary Effects']=='Lq']\n",
    "Lq_countries.shape"
   ]
  },
  {
   "cell_type": "code",
   "execution_count": null,
   "metadata": {
    "scrolled": true
   },
   "outputs": [],
   "source": [
    "Lq_countries['Country'].value_counts()"
   ]
  },
  {
   "cell_type": "code",
   "execution_count": null,
   "metadata": {},
   "outputs": [],
   "source": [
    "Lq_countries.head()"
   ]
  },
  {
   "cell_type": "code",
   "execution_count": null,
   "metadata": {
    "scrolled": true
   },
   "outputs": [],
   "source": [
    "# MaxdeathLq=Lq_countries.loc[Lq_countries['deaths']==Lq_countries['deaths'].max()]\n",
    "# print(MaxdeathLq)"
   ]
  },
  {
   "cell_type": "code",
   "execution_count": null,
   "metadata": {},
   "outputs": [],
   "source": [
    "# Trying to figure out a function that creates the maximum value for death\n",
    "# and the country for that particular secondary effect\n",
    "\n",
    "\n",
    "# def maxdeath()\n",
    "#     for SE in SE2['Secondary Effects']\n",
    "#     maxdeath='SE'_countries.loc\n",
    "\n",
    "\n",
    "# print__________\n",
    "# return _________-"
   ]
  },
  {
   "cell_type": "code",
   "execution_count": null,
   "metadata": {
    "scrolled": true
   },
   "outputs": [],
   "source": [
    "#Looking at landslides\n",
    "L_countries=SE3.loc[SE3['Secondary Effects']=='L']\n",
    "L_countries['Country'].value_counts()"
   ]
  },
  {
   "cell_type": "markdown",
   "metadata": {},
   "source": [
    "Top 5 Landslide countries are \n",
    "Iran                  10\n",
    "Taiwan                10\n",
    "Indonesia              8\n",
    "China                  8\n",
    "Afghanistan            8\n",
    "\n",
    "These countries have had the most landslides, but how many deaths have occured? ...\n",
    "consider using groupby to find the death tolls"
   ]
  },
  {
   "cell_type": "code",
   "execution_count": null,
   "metadata": {
    "scrolled": true
   },
   "outputs": [],
   "source": [
    "L_max_countries=L_countries.sort_values(['deaths'],ascending=False)\n",
    "tp=0.1*(len(L_countries))\n",
    "top=round(tp)\n",
    "L_max_countries.head(top)"
   ]
  },
  {
   "cell_type": "markdown",
   "metadata": {},
   "source": [
    "This describes the top 10% of occurrences that produced the most deaths for landslides and their countries."
   ]
  },
  {
   "cell_type": "code",
   "execution_count": null,
   "metadata": {
    "scrolled": true
   },
   "outputs": [],
   "source": [
    "F_countries=SE3.loc[SE3['Secondary Effects']=='F']\n",
    "F_countries['Country'].value_counts()\n",
    "# Why is Japan listed twice?  Perhaps there's a space somewhere in the string..."
   ]
  },
  {
   "cell_type": "code",
   "execution_count": null,
   "metadata": {
    "scrolled": true
   },
   "outputs": [],
   "source": [
    "F_max_countries=F_countries.sort_values(by='deaths',ascending=False)\n",
    "# tp=0.1*(len(F_countries))\n",
    "# top=round(tp)\n",
    "# F_max_countries.head(top)\n",
    "F_max_countries"
   ]
  },
  {
   "cell_type": "code",
   "execution_count": null,
   "metadata": {
    "scrolled": true
   },
   "outputs": [],
   "source": [
    "max_death_fire=F_countries.loc[F_countries['deaths']==F_countries['deaths'].max()]\n",
    "print(max_death_fire)"
   ]
  },
  {
   "cell_type": "markdown",
   "metadata": {},
   "source": [
    "Japan had the deadliest fire related earthquake in 1948.  Out of 5 of the highest fatal occurences due to fire, three of them were in Japan.  All of them occurred before 1950, however, there have been deadly earthquakes to occur in Japan since then.  They may not have had a secondary effect associated with it... Perhaps, Japan should be investigated independently."
   ]
  },
  {
   "cell_type": "markdown",
   "metadata": {},
   "source": [
    "The countries with a fire produced as a secondary effect and the number of occurences per country: \n",
    "Indonesia         2\n",
    "Japan             2\n",
    "Nicaragua         1\n",
    "China             1\n",
    "El Salvador       1\n",
    "Japan             1\n",
    "United States     1\n",
    "\n",
    "*Note the number of occurrences are fewer (only 9), yet they seem to produce more fatalities than Tsunamis which have more occurrences."
   ]
  },
  {
   "cell_type": "code",
   "execution_count": null,
   "metadata": {},
   "outputs": [],
   "source": [
    "T_countries=SE3.loc[SE3['Secondary Effects']=='T']\n",
    "T_countries['Country'].value_counts()"
   ]
  },
  {
   "cell_type": "code",
   "execution_count": null,
   "metadata": {
    "scrolled": true
   },
   "outputs": [],
   "source": [
    "T_max_countries=T_countries.sort_values(by='deaths',ascending=False)\n",
    "tp=0.1*(len(T_countries))\n",
    "top=round(tp)\n",
    "T_max_countries.head(top)\n",
    "#Looking for countries that were affected by specific instances."
   ]
  },
  {
   "cell_type": "markdown",
   "metadata": {},
   "source": [
    "In countries plagued by Tsunami-related earthquakes, the top 5 included: Indonesia with 19 occurrences, Japan with 19, Mexico with 12, Chile with 11, and Peru with 8.\n",
    "\n",
    "Obviously, these countries lie in coastal regions, nevertheless Italy, Guatemala, Chile, and Japan had the highest deaths reported for a Tsunami-related earthquake.\n",
    "\n",
    "Aside, from Italy, countries with the highest deaths and most Tsunami occurrences border the Pacific Ocean.\n",
    "\n",
    "While there is a plate that divides the Atlantic Ocean (*find name of plate), tectonic plates (*find name) exist closer in distance to the countries listed along the Pacific Ocean thereby possibly producing a greater effect of Tsunami - related deaths."
   ]
  },
  {
   "cell_type": "markdown",
   "metadata": {},
   "source": [
    "# Find population of countries over time and merge with data sets to determing percentage of deaths that occur in country... be mindful of time in year when value is collected.  Could be before or after significant earthquake has occurred."
   ]
  },
  {
   "cell_type": "code",
   "execution_count": null,
   "metadata": {},
   "outputs": [],
   "source": []
  }
 ],
 "metadata": {
  "kernelspec": {
   "display_name": "Python 3",
   "language": "python",
   "name": "python3"
  },
  "language_info": {
   "codemirror_mode": {
    "name": "ipython",
    "version": 3
   },
   "file_extension": ".py",
   "mimetype": "text/x-python",
   "name": "python",
   "nbconvert_exporter": "python",
   "pygments_lexer": "ipython3",
   "version": "3.6.5"
  }
 },
 "nbformat": 4,
 "nbformat_minor": 2
}
